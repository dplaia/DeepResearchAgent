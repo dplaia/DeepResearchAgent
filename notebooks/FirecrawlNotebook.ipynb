{
 "cells": [
  {
   "cell_type": "code",
   "execution_count": 1,
   "metadata": {},
   "outputs": [
    {
     "name": "stderr",
     "output_type": "stream",
     "text": [
      "/home/dplaia/Projekte/deepresearchagent/.venv/lib/python3.13/site-packages/pydantic/_internal/_generate_schema.py:502: UserWarning: <built-in function any> is not a Python type (it may be an instance of an object), Pydantic will allow any object with no validation since we cannot even enforce that the input is an instance of the given type. To get rid of this error wrap the type with `pydantic.SkipValidation`.\n",
      "  warn(\n",
      "/home/dplaia/Projekte/deepresearchagent/.venv/lib/python3.13/site-packages/pydantic/fields.py:1042: PydanticDeprecatedSince20: Using extra keyword arguments on `Field` is deprecated and will be removed. Use `json_schema_extra` instead. (Extra keys: 'env'). Deprecated in Pydantic V2.0 to be removed in V3.0. See Pydantic V2 Migration Guide at https://errors.pydantic.dev/2.10/migration/\n",
      "  warn(\n",
      "/home/dplaia/Projekte/deepresearchagent/.venv/lib/python3.13/site-packages/pydantic/_internal/_config.py:295: PydanticDeprecatedSince20: Support for class-based `config` is deprecated, use ConfigDict instead. Deprecated in Pydantic V2.0 to be removed in V3.0. See Pydantic V2 Migration Guide at https://errors.pydantic.dev/2.10/migration/\n",
      "  warnings.warn(DEPRECATION_MESSAGE, DeprecationWarning)\n"
     ]
    }
   ],
   "source": [
    "from agent_utils import *\n",
    "from agent_tools import *\n",
    "\n",
    "config = Config()\n",
    "\n",
    "# Log to a file with custom timestamp format\n",
    "logger.add(\"logs/chain_of_thougth_agent_system.log\", format=\"{time:YYYY-MM-DD HH:mm:ss} | {level} | {message}\")\n",
    "model = GeminiModel(config.FLASH2_MODEL)\n",
    "\n",
    "\n",
    "\n"
   ]
  },
  {
   "cell_type": "code",
   "execution_count": 4,
   "metadata": {},
   "outputs": [],
   "source": [
    "url = \"https://doc.brainchipinc.com/\"\n",
    "results = await map_website_async(url)"
   ]
  },
  {
   "cell_type": "code",
   "execution_count": 20,
   "metadata": {},
   "outputs": [
    {
     "data": {
      "text/plain": [
       "['https://doc.brainchipinc.com/user_guide',\n",
       " 'https://doc.brainchipinc.com/user_guide/akida_models.html',\n",
       " 'https://doc.brainchipinc.com/user_guide/user_guide.html',\n",
       " 'https://doc.brainchipinc.com/user_guide/engine.html',\n",
       " 'https://doc.brainchipinc.com/user_guide/cnn2snn.html',\n",
       " 'https://doc.brainchipinc.com/user_guide/akida.html',\n",
       " 'http://doc.brainchipinc.com',\n",
       " 'http://doc.brainchipinc.com/installation.html',\n",
       " 'http://doc.brainchipinc.com/license.html',\n",
       " 'http://doc.brainchipinc.com/model_zoo_performance.html',\n",
       " 'http://doc.brainchipinc.com/changelog.html',\n",
       " 'http://doc.brainchipinc.com/examples/index.html',\n",
       " 'http://doc.brainchipinc.com/api_reference/api_reference.html',\n",
       " 'http://doc.brainchipinc.com/api_reference/quantizeml_apis.html',\n",
       " 'http://doc.brainchipinc.com/api_reference/cnn2snn_apis.html',\n",
       " 'http://doc.brainchipinc.com/api_reference/akida_apis.html',\n",
       " 'http://doc.brainchipinc.com/api_reference/akida_models_apis.html',\n",
       " 'http://doc.brainchipinc.com/examples/cnn2snn/plot_1_advanced_cnn2snn.html',\n",
       " 'http://doc.brainchipinc.com/_modules/cnn2snn/quantization.html',\n",
       " 'http://doc.brainchipinc.com/_modules/akida_models/gamma_constraint.html',\n",
       " 'http://doc.brainchipinc.com/examples/general/plot_2_ds_cnn_kws.html',\n",
       " 'http://doc.brainchipinc.com/examples/general/plot_3_regression.html',\n",
       " 'http://doc.brainchipinc.com/_modules/akida/sparsity.html',\n",
       " 'http://doc.brainchipinc.com/examples/edge/plot_1_edge_learning_kws.html',\n",
       " 'http://doc.brainchipinc.com/_modules/cnn2snn/converter.html',\n",
       " 'http://doc.brainchipinc.com/examples/edge/plot_0_edge_learning_vision.html',\n",
       " 'http://doc.brainchipinc.com/examples/general/plot_4_transfer_learning.html',\n",
       " 'http://doc.brainchipinc.com/examples/general/plot_1_akidanet_imagenet.html',\n",
       " 'http://doc.brainchipinc.com/_modules/cnn2snn/quantization_ops.html',\n",
       " 'http://doc.brainchipinc.com/examples/general/plot_7_vision_transformer.html',\n",
       " 'http://doc.brainchipinc.com/examples/edge/plot_2_edge_learning_parameters.html',\n",
       " 'http://doc.brainchipinc.com/examples/general/plot_5_voc_yolo_detection.html',\n",
       " 'http://doc.brainchipinc.com/examples/general/plot_6_segmentation.html',\n",
       " 'http://doc.brainchipinc.com/_modules/akida_models/extract.html',\n",
       " 'http://doc.brainchipinc.com/_modules/akida_models/macs.html',\n",
       " 'http://doc.brainchipinc.com/_modules/quantizeml/layers/rescaling.html',\n",
       " 'http://doc.brainchipinc.com/_modules/akida_models/detection/processing.html',\n",
       " 'http://doc.brainchipinc.com/_modules/akida_models/modelnet40/preprocessing.html',\n",
       " 'http://doc.brainchipinc.com/_modules/akida_models/detection/map_evaluation.html',\n",
       " 'http://doc.brainchipinc.com/_modules/akida/layers/depthwise_conv2d.html',\n",
       " 'http://doc.brainchipinc.com/_modules/akida_models/modelnet40/model_pointnet_plus.html',\n",
       " 'http://doc.brainchipinc.com/_modules/akida_models/detection/data_augmentation.html',\n",
       " 'http://doc.brainchipinc.com/_modules/cnn2snn/calibration/bias_correction.html',\n",
       " 'http://doc.brainchipinc.com/_modules/akida_models/utk_face/preprocessing.html',\n",
       " 'http://doc.brainchipinc.com/_modules/akida/layers/dense2d.html',\n",
       " 'http://doc.brainchipinc.com/_modules/akida_models/detection/model_yolo.html',\n",
       " 'http://doc.brainchipinc.com/_modules/akida_models/kws/preprocessing.html',\n",
       " 'http://doc.brainchipinc.com/_modules/akida/layers/shiftmax.html',\n",
       " 'http://doc.brainchipinc.com/_modules/quantizeml/analysis/quantization_error_api.html',\n",
       " 'http://doc.brainchipinc.com/_modules/quantizeml/layers/vit.html',\n",
       " 'http://doc.brainchipinc.com/_modules/akida_models/detection/generate_anchors.html',\n",
       " 'http://doc.brainchipinc.com/_modules/akida_models/kws/model_ds_cnn.html',\n",
       " 'http://doc.brainchipinc.com/_modules/akida_models/imagenet/model_akidanet_edge.html',\n",
       " 'http://doc.brainchipinc.com/_modules/quantizeml/layers/depthwise_convolution.html',\n",
       " 'http://doc.brainchipinc.com/_modules/quantizeml/models/calibrate.html',\n",
       " 'http://doc.brainchipinc.com/_modules/akida_models/detection/preprocess_data.html',\n",
       " 'http://doc.brainchipinc.com/_modules/cnn2snn/transforms/batch_normalization.html',\n",
       " 'http://doc.brainchipinc.com/_modules/akida_models/imagenet/model_akidanet.html',\n",
       " 'http://doc.brainchipinc.com/_modules/quantizeml/layers/normalization.html',\n",
       " 'http://doc.brainchipinc.com/_modules/akida/layers/attention.html',\n",
       " 'http://doc.brainchipinc.com/_modules/akida_models/imagenet/preprocessing.html',\n",
       " 'http://doc.brainchipinc.com/_modules/quantizeml/layers/pooling.html',\n",
       " 'http://doc.brainchipinc.com/_modules/akida/layers/convolutional.html',\n",
       " 'http://doc.brainchipinc.com/_modules/akida/layers/vit_encoder_block.html',\n",
       " 'http://doc.brainchipinc.com/_modules/cnn2snn/calibration/adaround.html',\n",
       " 'http://doc.brainchipinc.com/_modules/akida_models/utk_face/model_vgg.html',\n",
       " 'http://doc.brainchipinc.com/_modules/akida_models/portrait128/model_akida_unet.html',\n",
       " 'http://doc.brainchipinc.com/_modules/akida/layers/dequantizer.html',\n",
       " 'http://doc.brainchipinc.com/_modules/quantizeml/onnx_support/layers/conv2d.html',\n",
       " 'http://doc.brainchipinc.com/_modules/quantizeml/onnx_support/layers/dense.html',\n",
       " 'http://doc.brainchipinc.com/_modules/quantizeml/layers/reshaping/reshape.html',\n",
       " 'http://doc.brainchipinc.com/examples/quantization/plot_0_advanced_quantizeml.html']"
      ]
     },
     "execution_count": 20,
     "metadata": {},
     "output_type": "execute_result"
    }
   ],
   "source": [
    "l = results['links']\n",
    "\n",
    "l"
   ]
  },
  {
   "cell_type": "code",
   "execution_count": 11,
   "metadata": {},
   "outputs": [],
   "source": [
    "url = \"https://doc.brainchipinc.com/user_guide/\"\n",
    "results = await map_website_async(url)"
   ]
  },
  {
   "cell_type": "code",
   "execution_count": 19,
   "metadata": {},
   "outputs": [
    {
     "data": {
      "text/plain": [
       "['http://doc.brainchipinc.com/api_reference/quantizeml_apis.html',\n",
       " 'http://doc.brainchipinc.com/_modules/cnn2snn/quantization.html',\n",
       " 'http://doc.brainchipinc.com/_modules/cnn2snn/quantization_ops.html',\n",
       " 'http://doc.brainchipinc.com/_modules/quantizeml/layers/rescaling.html',\n",
       " 'http://doc.brainchipinc.com/_modules/quantizeml/analysis/quantization_error_api.html',\n",
       " 'http://doc.brainchipinc.com/_modules/quantizeml/layers/vit.html',\n",
       " 'http://doc.brainchipinc.com/_modules/quantizeml/layers/depthwise_convolution.html',\n",
       " 'http://doc.brainchipinc.com/_modules/quantizeml/models/calibrate.html',\n",
       " 'http://doc.brainchipinc.com/_modules/quantizeml/layers/normalization.html',\n",
       " 'http://doc.brainchipinc.com/_modules/quantizeml/layers/pooling.html',\n",
       " 'http://doc.brainchipinc.com/_modules/akida/layers/dequantizer.html',\n",
       " 'http://doc.brainchipinc.com/_modules/quantizeml/onnx_support/layers/conv2d.html',\n",
       " 'http://doc.brainchipinc.com/_modules/quantizeml/onnx_support/layers/dense.html',\n",
       " 'http://doc.brainchipinc.com/_modules/quantizeml/layers/reshaping/reshape.html',\n",
       " 'http://doc.brainchipinc.com/examples/quantization/plot_0_advanced_quantizeml.html']"
      ]
     },
     "execution_count": 19,
     "metadata": {},
     "output_type": "execute_result"
    }
   ],
   "source": [
    "l2 = results['links']\n",
    "[f for f in l2 if \"quant\" in f]"
   ]
  },
  {
   "cell_type": "code",
   "execution_count": 25,
   "metadata": {},
   "outputs": [
    {
     "name": "stdout",
     "output_type": "stream",
     "text": [
      "https://doc.brainchipinc.com/user_guide -> user_guide\n",
      "https://doc.brainchipinc.com/user_guide/akida_models.html -> akida_models.html\n",
      "https://doc.brainchipinc.com/user_guide/user_guide.html -> user_guide.html\n",
      "https://doc.brainchipinc.com/user_guide/engine.html -> engine.html\n",
      "https://doc.brainchipinc.com/user_guide/cnn2snn.html -> cnn2snn.html\n",
      "https://doc.brainchipinc.com/user_guide/akida.html -> akida.html\n",
      "http://doc.brainchipinc.com -> doc.brainchipinc.com\n",
      "http://doc.brainchipinc.com/installation.html -> installation.html\n",
      "http://doc.brainchipinc.com/license.html -> license.html\n",
      "http://doc.brainchipinc.com/model_zoo_performance.html -> model_zoo_performance.html\n",
      "http://doc.brainchipinc.com/changelog.html -> changelog.html\n",
      "http://doc.brainchipinc.com/examples/index.html -> index.html\n",
      "http://doc.brainchipinc.com/api_reference/api_reference.html -> api_reference.html\n",
      "http://doc.brainchipinc.com/api_reference/quantizeml_apis.html -> quantizeml_apis.html\n",
      "http://doc.brainchipinc.com/api_reference/cnn2snn_apis.html -> cnn2snn_apis.html\n",
      "http://doc.brainchipinc.com/api_reference/akida_apis.html -> akida_apis.html\n",
      "http://doc.brainchipinc.com/api_reference/akida_models_apis.html -> akida_models_apis.html\n",
      "http://doc.brainchipinc.com/examples/cnn2snn/plot_1_advanced_cnn2snn.html -> plot_1_advanced_cnn2snn.html\n",
      "http://doc.brainchipinc.com/_modules/cnn2snn/quantization.html -> quantization.html\n",
      "http://doc.brainchipinc.com/_modules/akida_models/gamma_constraint.html -> gamma_constraint.html\n",
      "http://doc.brainchipinc.com/examples/general/plot_2_ds_cnn_kws.html -> plot_2_ds_cnn_kws.html\n",
      "http://doc.brainchipinc.com/examples/general/plot_3_regression.html -> plot_3_regression.html\n",
      "http://doc.brainchipinc.com/_modules/akida/sparsity.html -> sparsity.html\n",
      "http://doc.brainchipinc.com/examples/edge/plot_1_edge_learning_kws.html -> plot_1_edge_learning_kws.html\n",
      "http://doc.brainchipinc.com/_modules/cnn2snn/converter.html -> converter.html\n",
      "http://doc.brainchipinc.com/examples/edge/plot_0_edge_learning_vision.html -> plot_0_edge_learning_vision.html\n",
      "http://doc.brainchipinc.com/examples/general/plot_4_transfer_learning.html -> plot_4_transfer_learning.html\n",
      "http://doc.brainchipinc.com/examples/general/plot_1_akidanet_imagenet.html -> plot_1_akidanet_imagenet.html\n",
      "http://doc.brainchipinc.com/_modules/cnn2snn/quantization_ops.html -> quantization_ops.html\n",
      "http://doc.brainchipinc.com/examples/general/plot_7_vision_transformer.html -> plot_7_vision_transformer.html\n",
      "http://doc.brainchipinc.com/examples/edge/plot_2_edge_learning_parameters.html -> plot_2_edge_learning_parameters.html\n",
      "http://doc.brainchipinc.com/examples/general/plot_5_voc_yolo_detection.html -> plot_5_voc_yolo_detection.html\n",
      "http://doc.brainchipinc.com/examples/general/plot_6_segmentation.html -> plot_6_segmentation.html\n",
      "http://doc.brainchipinc.com/_modules/akida_models/extract.html -> extract.html\n",
      "http://doc.brainchipinc.com/_modules/akida_models/macs.html -> macs.html\n",
      "http://doc.brainchipinc.com/_modules/quantizeml/layers/rescaling.html -> rescaling.html\n",
      "http://doc.brainchipinc.com/_modules/akida_models/detection/processing.html -> processing.html\n",
      "http://doc.brainchipinc.com/_modules/akida_models/modelnet40/preprocessing.html -> preprocessing.html\n",
      "http://doc.brainchipinc.com/_modules/akida_models/detection/map_evaluation.html -> map_evaluation.html\n",
      "http://doc.brainchipinc.com/_modules/akida/layers/depthwise_conv2d.html -> depthwise_conv2d.html\n",
      "http://doc.brainchipinc.com/_modules/akida_models/modelnet40/model_pointnet_plus.html -> model_pointnet_plus.html\n",
      "http://doc.brainchipinc.com/_modules/akida_models/detection/data_augmentation.html -> data_augmentation.html\n",
      "http://doc.brainchipinc.com/_modules/cnn2snn/calibration/bias_correction.html -> bias_correction.html\n",
      "http://doc.brainchipinc.com/_modules/akida_models/utk_face/preprocessing.html -> preprocessing.html\n",
      "http://doc.brainchipinc.com/_modules/akida/layers/dense2d.html -> dense2d.html\n",
      "http://doc.brainchipinc.com/_modules/akida_models/detection/model_yolo.html -> model_yolo.html\n",
      "http://doc.brainchipinc.com/_modules/akida_models/kws/preprocessing.html -> preprocessing.html\n",
      "http://doc.brainchipinc.com/_modules/akida/layers/shiftmax.html -> shiftmax.html\n",
      "http://doc.brainchipinc.com/_modules/quantizeml/analysis/quantization_error_api.html -> quantization_error_api.html\n",
      "http://doc.brainchipinc.com/_modules/quantizeml/layers/vit.html -> vit.html\n",
      "http://doc.brainchipinc.com/_modules/akida_models/detection/generate_anchors.html -> generate_anchors.html\n",
      "http://doc.brainchipinc.com/_modules/akida_models/kws/model_ds_cnn.html -> model_ds_cnn.html\n",
      "http://doc.brainchipinc.com/_modules/akida_models/imagenet/model_akidanet_edge.html -> model_akidanet_edge.html\n",
      "http://doc.brainchipinc.com/_modules/quantizeml/layers/depthwise_convolution.html -> depthwise_convolution.html\n",
      "http://doc.brainchipinc.com/_modules/quantizeml/models/calibrate.html -> calibrate.html\n",
      "http://doc.brainchipinc.com/_modules/akida_models/detection/preprocess_data.html -> preprocess_data.html\n",
      "http://doc.brainchipinc.com/_modules/cnn2snn/transforms/batch_normalization.html -> batch_normalization.html\n",
      "http://doc.brainchipinc.com/_modules/akida_models/imagenet/model_akidanet.html -> model_akidanet.html\n",
      "http://doc.brainchipinc.com/_modules/quantizeml/layers/normalization.html -> normalization.html\n",
      "http://doc.brainchipinc.com/_modules/akida/layers/attention.html -> attention.html\n",
      "http://doc.brainchipinc.com/_modules/akida_models/imagenet/preprocessing.html -> preprocessing.html\n",
      "http://doc.brainchipinc.com/_modules/quantizeml/layers/pooling.html -> pooling.html\n",
      "http://doc.brainchipinc.com/_modules/akida/layers/convolutional.html -> convolutional.html\n",
      "http://doc.brainchipinc.com/_modules/akida/layers/vit_encoder_block.html -> vit_encoder_block.html\n",
      "http://doc.brainchipinc.com/_modules/cnn2snn/calibration/adaround.html -> adaround.html\n",
      "http://doc.brainchipinc.com/_modules/akida_models/utk_face/model_vgg.html -> model_vgg.html\n",
      "http://doc.brainchipinc.com/_modules/akida_models/portrait128/model_akida_unet.html -> model_akida_unet.html\n",
      "http://doc.brainchipinc.com/_modules/akida/layers/dequantizer.html -> dequantizer.html\n",
      "http://doc.brainchipinc.com/_modules/quantizeml/onnx_support/layers/conv2d.html -> conv2d.html\n",
      "http://doc.brainchipinc.com/_modules/quantizeml/onnx_support/layers/dense.html -> dense.html\n",
      "http://doc.brainchipinc.com/_modules/quantizeml/layers/reshaping/reshape.html -> reshape.html\n",
      "http://doc.brainchipinc.com/examples/quantization/plot_0_advanced_quantizeml.html -> plot_0_advanced_quantizeml.html\n"
     ]
    }
   ],
   "source": [
    "for url in l:\n",
    "\n",
    "    print(f\"{url} -> {url.split(\"/\")[-1]}\")"
   ]
  },
  {
   "cell_type": "code",
   "execution_count": 26,
   "metadata": {},
   "outputs": [],
   "source": [
    "folder_path = \"brainchip\"\n",
    "\n",
    "if not exists(folder_path):\n",
    "    makedirs(folder_path)\n",
    "\n",
    "\n",
    "md = MarkItDown()\n",
    "for url in l:\n",
    "    url_ending = url.split(\"/\")[-1]\n",
    "    if url_ending.endswith(\".html\"):\n",
    "        markdown_output = md.convert(url).text_content\n",
    "        file_path = join(folder_path, url_ending)\n",
    "        with open(file_path, \"w\") as f:\n",
    "            f.write(markdown_output)"
   ]
  }
 ],
 "metadata": {
  "kernelspec": {
   "display_name": ".venv",
   "language": "python",
   "name": "python3"
  },
  "language_info": {
   "codemirror_mode": {
    "name": "ipython",
    "version": 3
   },
   "file_extension": ".py",
   "mimetype": "text/x-python",
   "name": "python",
   "nbconvert_exporter": "python",
   "pygments_lexer": "ipython3",
   "version": "3.13.1"
  }
 },
 "nbformat": 4,
 "nbformat_minor": 2
}
