{
 "cells": [
  {
   "cell_type": "code",
   "execution_count": 1,
   "metadata": {},
   "outputs": [],
   "source": [
    "import os\n",
    "import sys\n",
    "import controlflow as cf\n",
    "\n",
    "from agent_utils import *\n",
    "from agent_tools import *"
   ]
  },
  {
   "cell_type": "code",
   "execution_count": 2,
   "metadata": {},
   "outputs": [],
   "source": [
    "reasoningAgentChat = ChatHandler()\n",
    "basicSearchAgent = BasicSearchAgent()\n",
    "\n",
    "searchAgent = cf.Agent(\n",
    "    name=\"Search\",\n",
    "    model = \"google/\" + config.FLASH2_MODEL,\n",
    "    instructions=f\"\"\"\n",
    "    Your goal is to search for specific information given a search query. Come up with one single search query and use the search tools available to you.\n",
    "    \"\"\",\n",
    "    tools=[google_general_search_async]\n",
    ")\n",
    "\n",
    "class SearchResults(BaseModel):\n",
    "    list_of_results: List[str] = Field(description=\"A list with search results.\")"
   ]
  },
  {
   "cell_type": "code",
   "execution_count": null,
   "metadata": {},
   "outputs": [],
   "source": [
    "search_query = \"What can you tell me about the new investAI initiative from the EU?\"\n",
    "\n",
    "task_search_web = cf.Task(\n",
    "    objective=f\"Use web search given the following search query: {search_query}\",\n",
    "    instructions=f\"Use web search given a query\",\n",
    "    result_type=SearchResults,\n",
    "    agents=[searchAgent]\n",
    ")\n",
    "\n",
    "\n",
    "result = task_search_web.run()"
   ]
  },
  {
   "cell_type": "code",
   "execution_count": 11,
   "metadata": {},
   "outputs": [
    {
     "data": {
      "text/html": [
       "<pre style=\"white-space:pre;overflow-x:auto;line-height:normal;font-family:Menlo,'DejaVu Sans Mono',consolas,'Courier New',monospace\">InvestAI is a new initiative from the EU aimed at mobilizing €200 billion of investment in artificial intelligence.\n",
       "It intends to reduce Europe's reliance on foreign AI infrastructure and support open, collaborative AI development.\n",
       "The fund will finance four future AI gigafactories across the EU, specializing in training complex AI models.      \n",
       "</pre>\n"
      ],
      "text/plain": [
       "InvestAI is a new initiative from the EU aimed at mobilizing €200 billion of investment in artificial intelligence.\n",
       "It intends to reduce Europe's reliance on foreign AI infrastructure and support open, collaborative AI development.\n",
       "The fund will finance four future AI gigafactories across the EU, specializing in training complex AI models.      \n"
      ]
     },
     "metadata": {},
     "output_type": "display_data"
    }
   ],
   "source": [
    "console_print(result.list_of_results[0])"
   ]
  }
 ],
 "metadata": {
  "kernelspec": {
   "display_name": ".venv",
   "language": "python",
   "name": "python3"
  },
  "language_info": {
   "codemirror_mode": {
    "name": "ipython",
    "version": 3
   },
   "file_extension": ".py",
   "mimetype": "text/x-python",
   "name": "python",
   "nbconvert_exporter": "python",
   "pygments_lexer": "ipython3",
   "version": "3.13.1"
  }
 },
 "nbformat": 4,
 "nbformat_minor": 2
}
