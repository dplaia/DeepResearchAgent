{
 "cells": [
  {
   "cell_type": "code",
   "execution_count": 1,
   "metadata": {},
   "outputs": [],
   "source": [
    "import os\n",
    "import time\n",
    "from os.path import join, exists\n",
    "from os import listdir, makedirs\n",
    "from datetime import datetime\n",
    "from google import genai\n",
    "from google.genai import types\n",
    "from openai import OpenAI\n",
    "from openai import AsyncOpenAI\n",
    "import requests\n",
    "import json\n",
    "from pydantic import BaseModel, Field\n",
    "from crawl4ai import *\n",
    "from pydantic_ai import Agent, RunContext\n",
    "from pydantic_ai.models.gemini import GeminiModel\n",
    "from dataclasses import dataclass\n",
    "from rich import print as rprint\n",
    "from rich.console import Console\n",
    "from rich.markdown import Markdown\n",
    "import asyncio\n",
    "import nest_asyncio \n",
    "# Add this line to allow nested event loops\n",
    "nest_asyncio.apply()\n",
    "\n",
    "from WebSearchAgent import *\n",
    "from agent_tools import *\n",
    "from agent_utils import *\n",
    "\n",
    "config = Config()"
   ]
  },
  {
   "cell_type": "code",
   "execution_count": 2,
   "metadata": {},
   "outputs": [],
   "source": [
    "model = GeminiModel(config.FLASH2_MODEL)\n",
    "\n",
    "class Deps(BaseModel):\n",
    "    #questions: dict[int, str] = Field(description=\"A list of questions that need to be answered.\")\n",
    "    @property\n",
    "    def current_datetime_str(self) -> str:\n",
    "        \"\"\"Get the current date and time.\"\"\"\n",
    "        now = self.get_datetime()\n",
    "        return str(now)\n",
    "\n",
    "    def get_datetime(self):\n",
    "        return datetime.now()\n",
    "\n",
    "questions = [\n",
    "    \"Explain the concept of 'artificial intelligence' in a way that a 10-year-old could understand.\", \n",
    "    \"Compare and contrast the philosophies of Plato and Aristotle, highlighting their key differences and similarities in their views on ethics and knowledge.\", \n",
    "    \"Write a short poem about the feeling of walking through a forest in autumn.\",\n",
    "    \"If someone is planning a trip to Italy and enjoys art and history, what are three cities you would recommend they visit and why?\",\n",
    "    \"Summarize the main arguments for and against universal basic income.\"]\n",
    "\n",
    "dict_questions = {k: question for (k, question) in enumerate(questions)}\n",
    "\n",
    "deps = Deps()\n",
    "\n",
    "agent = Agent(\n",
    "    model,\n",
    "    deps_type=Deps,  \n",
    "    #result_type=pass,\n",
    "    system_prompt=\"\"\"\n",
    "    You are a helpful assistant.\n",
    "    \"\"\")\n",
    "\n",
    "@agent.system_prompt  \n",
    "def add_the_date(ctx: RunContext[str]) -> str:\n",
    "    return f\"The user's name is {ctx.deps.current_datetime_str}.\""
   ]
  },
  {
   "cell_type": "code",
   "execution_count": null,
   "metadata": {},
   "outputs": [],
   "source": [
    "for k in range(3):\n",
    "    result = await agent.run('What date and time is it?', deps=deps)\n",
    "    print(result.data)\n",
    "    time.sleep(1)\n"
   ]
  }
 ],
 "metadata": {
  "kernelspec": {
   "display_name": ".venv",
   "language": "python",
   "name": "python3"
  },
  "language_info": {
   "codemirror_mode": {
    "name": "ipython",
    "version": 3
   },
   "file_extension": ".py",
   "mimetype": "text/x-python",
   "name": "python",
   "nbconvert_exporter": "python",
   "pygments_lexer": "ipython3",
   "version": "3.13.1"
  }
 },
 "nbformat": 4,
 "nbformat_minor": 2
}
