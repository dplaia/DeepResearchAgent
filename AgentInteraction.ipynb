{
 "cells": [
  {
   "cell_type": "code",
   "execution_count": 1,
   "metadata": {},
   "outputs": [
    {
     "name": "stderr",
     "output_type": "stream",
     "text": [
      "/home/dplaia/Projekte/deepresearchagent/.venv/lib/python3.13/site-packages/pydantic/_internal/_generate_schema.py:502: UserWarning: <built-in function any> is not a Python type (it may be an instance of an object), Pydantic will allow any object with no validation since we cannot even enforce that the input is an instance of the given type. To get rid of this error wrap the type with `pydantic.SkipValidation`.\n",
      "  warn(\n",
      "/home/dplaia/Projekte/deepresearchagent/.venv/lib/python3.13/site-packages/pydantic/fields.py:1042: PydanticDeprecatedSince20: Using extra keyword arguments on `Field` is deprecated and will be removed. Use `json_schema_extra` instead. (Extra keys: 'env'). Deprecated in Pydantic V2.0 to be removed in V3.0. See Pydantic V2 Migration Guide at https://errors.pydantic.dev/2.10/migration/\n",
      "  warn(\n",
      "/home/dplaia/Projekte/deepresearchagent/.venv/lib/python3.13/site-packages/pydantic/_internal/_config.py:295: PydanticDeprecatedSince20: Support for class-based `config` is deprecated, use ConfigDict instead. Deprecated in Pydantic V2.0 to be removed in V3.0. See Pydantic V2 Migration Guide at https://errors.pydantic.dev/2.10/migration/\n",
      "  warnings.warn(DEPRECATION_MESSAGE, DeprecationWarning)\n"
     ]
    },
    {
     "name": "stderr",
     "output_type": "stream",
     "text": [
      "Logfire project URL: \u001b]8;id=219060;https://logfire.pydantic.dev/dplaia/deepresearchagent\u001b\\https://logfire.pydantic.dev/dplaia/deepresearchagent\u001b]8;;\u001b\\\n"
     ]
    }
   ],
   "source": [
    "import os\n",
    "import time\n",
    "import pickle\n",
    "from os.path import join, exists, basename\n",
    "from os import listdir, makedirs\n",
    "from datetime import datetime\n",
    "from google import genai\n",
    "from google.genai import types\n",
    "from openai import OpenAI, AsyncOpenAI\n",
    "import requests\n",
    "import json\n",
    "from pydantic import BaseModel, Field\n",
    "from crawl4ai import *\n",
    "from pydantic_ai.result import RunResult\n",
    "from pydantic_ai import Agent, RunContext\n",
    "from pydantic_ai.models.gemini import GeminiModel\n",
    "from pydantic_ai.exceptions import UsageLimitExceeded\n",
    "from pydantic_ai.usage import UsageLimits\n",
    "from rich import print as rprint\n",
    "from rich.console import Console\n",
    "from rich.markdown import Markdown\n",
    "from queue import Queue, Empty\n",
    "from dataclasses import dataclass, field\n",
    "from uuid import UUID, uuid4\n",
    "from typing import Dict, Optional, List\n",
    "from typing import TypeVar, Generic\n",
    "from markitdown import MarkItDown\n",
    "import asyncio\n",
    "import nest_asyncio \n",
    "# Add this line to allow nested event loops\n",
    "nest_asyncio.apply()\n",
    "import copy\n",
    "from agent_tools import *\n",
    "from agent_utils import *\n",
    "\n",
    "from loguru import logger\n",
    "\n",
    "config = Config()\n",
    "\n",
    "# Log to a file with custom timestamp format\n",
    "logger.add(\"logs/chain_of_thougth_agent_system.log\", format=\"{time:YYYY-MM-DD HH:mm:ss} | {level} | {message}\")\n",
    "model = GeminiModel(config.FLASH2_MODEL)\n",
    "\n",
    "import logfire\n",
    "\n",
    "def scrubbing_callback(m: logfire.ScrubMatch):\n",
    "    if (\n",
    "        m.path == ('message', 'prompt')\n",
    "        and m.pattern_match.group(0) == 'Auth'\n",
    "    ):\n",
    "        return m.value\n",
    "\n",
    "    if (\n",
    "        m.path == ('attributes', 'prompt')\n",
    "        and m.pattern_match.group(0) == 'Auth'\n",
    "    ):\n",
    "        return m.value\n",
    "\n",
    "    if m.path == ('attributes', 'agent', 'model', 'auth'):\n",
    "        return m.value\n",
    "\n",
    "logfire.configure(scrubbing=logfire.ScrubbingOptions(callback=scrubbing_callback))\n",
    "\n",
    "logfire.instrument_httpx()"
   ]
  },
  {
   "cell_type": "markdown",
   "metadata": {},
   "source": [
    "### Read documents"
   ]
  },
  {
   "cell_type": "code",
   "execution_count": 2,
   "metadata": {},
   "outputs": [],
   "source": [
    "documents = {}\n",
    "folder_name = 'input_files/'\n",
    "\n",
    "# Create directory if it doesn't exist\n",
    "if not exists(folder_name):\n",
    "    makedirs(folder_name, exist_ok=True)\n",
    "\n",
    "main_input_file = join(folder_name, \"Vorhabenbeschreibung_NeuroTrust.txt\")\n",
    "\n",
    "if not exists(main_input_file):\n",
    "    print(\"file does not exists\")\n",
    "    # Process each file in the input directory\n",
    "    for filename in listdir(folder_name):\n",
    "        filepath = join(folder_name, filename)\n",
    "        \n",
    "        if not os.path.isfile(filepath):\n",
    "            continue\n",
    "            \n",
    "        try:\n",
    "            md = MarkItDown()\n",
    "            result = md.convert(filepath)\n",
    "            filename = os.path.basename(filepath)\n",
    "            documents[filename] = result.text_content\n",
    "        except Exception as e:\n",
    "            print(f\"Error processing {filepath}: {str(e)}\")\n",
    "            continue\n",
    "\n",
    "    doc = \"\"\n",
    "    for filename in documents:\n",
    "        print(f\"Filename: {filename}\")\n",
    "        doc = documents[filename]\n",
    "        count = word_count(doc)\n",
    "        print(f\"Number of Words in the document: {count}\")\n",
    "\n",
    "        break\n",
    "\n",
    "    with open(main_input_file, \"w\", encoding=\"utf-8\") as f:\n",
    "        f.write(doc)\n",
    "\n",
    "else:\n",
    "    with open(main_input_file, \"r\", encoding=\"utf-8\") as f:\n",
    "        doc = f.read()"
   ]
  },
  {
   "cell_type": "code",
   "execution_count": 3,
   "metadata": {},
   "outputs": [],
   "source": [
    "query = f\"\"\"Let's assume you have access to the Google Search API and the Google Scholar API. \n",
    "\n",
    "Based on the folling document, which search queries would you do, to improve the quality of the document?\n",
    "\n",
    "# Document: \n",
    "\n",
    "{doc}\"\"\"\n",
    "\n",
    "response_thinking = gemini_flash2_thinking_call(query)\n",
    "console_print(response_thinking.final_answer)"
   ]
  },
  {
   "cell_type": "code",
   "execution_count": null,
   "metadata": {},
   "outputs": [],
   "source": [
    "class ListResponse(BaseModel):\n",
    "    main_list: list[str] = Field(description=\"The extracted list.\")\n",
    "\n",
    "#system_prompt=\"Return a list of things based on user query.\"\n",
    "\n",
    "baseAgent = BaseAgent[ListResponse](ListResponse)\n",
    "result = await baseAgent.run(\"Give me a list with very small countries of the world.\")\n",
    "print(result.data)"
   ]
  },
  {
   "cell_type": "code",
   "execution_count": null,
   "metadata": {},
   "outputs": [],
   "source": [
    "system_prompt = \"Your goal is to extract search queries (e.g., google search, google scholar, etc.) that are mention in a text.\"\n",
    "user_input = f\"Please extract all search queries from this text: {response_thinking.final_answer}\"\n",
    "\n",
    "baseAgent = BasicAgent[AgentResponse](AgentResponse, system_prompt, config)\n",
    "result = await baseAgent.run(user_input)\n",
    "\n",
    "print(result.data)"
   ]
  },
  {
   "cell_type": "code",
   "execution_count": null,
   "metadata": {},
   "outputs": [],
   "source": [
    "# Initialize the chat handler with your credentials and desired model.\n",
    "chat = ChatHandler(api_key=config.GEMINI_API_KEY, model=config.FLASH2_MODEL_THINKING)\n",
    "    \n",
    "response = chat.send_question(\"What is 2*2?\")\n",
    "print(response)"
   ]
  },
  {
   "cell_type": "code",
   "execution_count": null,
   "metadata": {},
   "outputs": [
    {
     "name": "stdout",
     "output_type": "stream",
     "text": [
      "14:38:34.692 agent run prompt=[Scrubbed due to 'auth']\n",
      "14:38:34.698   preparing model and tools run_step=1\n",
      "14:38:34.703   model request\n",
      "14:38:34.751     POST /v1beta/models/gemini-2.0-flash-exp:generateContent\n"
     ]
    },
    {
     "name": "stderr",
     "output_type": "stream",
     "text": [
      "INFO:httpx:HTTP Request: POST https://generativelanguage.googleapis.com/v1beta/models/gemini-2.0-flash-exp:generateContent \"HTTP/1.1 200 OK\"\n"
     ]
    },
    {
     "name": "stdout",
     "output_type": "stream",
     "text": [
      "14:38:38.004   handle model response\n"
     ]
    }
   ],
   "source": [
    "\n",
    "class AgentResponse(BaseModel):\n",
    "    google_search_queries: list[str] = Field(description=\"The extracted google search queries.\")\n",
    "    google_scholar_queries: list[str] = Field(description=\"The extracted google scholar queries.\")\n",
    "\n",
    "system_prompt = \"Your goal is to extract search queries (e.g., google search, google scholar, etc.) that are mention in a text.\"\n",
    "user_input = f\"Please extract all search queries from this text: {response_thinking.final_answer}\"\n",
    "\n",
    "agent = Agent(\n",
    "    model,\n",
    "    result_type=AgentResponse,\n",
    "    system_prompt=system_prompt)\n",
    "\n",
    "result = await agent.run(user_input)\n",
    "data = result.data"
   ]
  },
  {
   "cell_type": "code",
   "execution_count": 21,
   "metadata": {},
   "outputs": [
    {
     "data": {
      "text/plain": [
       "['\"neuromorphic computing\" \"CMOS\" \"spiking neural networks\" review',\n",
       " '\"spiking neuron\" \"CMOS\" \"analog\" circuit design',\n",
       " '\"memristor synapse\" \"CMOS\" implementation',\n",
       " '\"spike-timing-dependent plasticity\" \"STDP\" \"CMOS\" implementation',\n",
       " '\"neuromorphic computing\" \"energy efficiency\" benchmarks comparison',\n",
       " '\"neuromorphic PUF\" \"spiking neuron PUF\" security analysis',\n",
       " '\"PUF\" \"CMOS\" \"analog variation\" entropy',\n",
       " '\"breakdown structure\" \"CMOS\" \"bistable\" non-volatile memory',\n",
       " '\"weightless neural network\" \"WNN\" \"PUF\" security enhancement',\n",
       " '\"neuromorphic engineering\" \"challenges\" \"future directions\"',\n",
       " '\"VDE SPEC 90033\" \"neuromorphic computing\" \"layer model\" analysis']"
      ]
     },
     "execution_count": 21,
     "metadata": {},
     "output_type": "execute_result"
    }
   ],
   "source": [
    "data.google_scholar_queries"
   ]
  },
  {
   "cell_type": "markdown",
   "metadata": {},
   "source": [
    "### Setup Agent that reads the document"
   ]
  },
  {
   "cell_type": "code",
   "execution_count": 29,
   "metadata": {},
   "outputs": [],
   "source": [
    "class DocumentStore:\n",
    "    \"\"\"Thread-safe FIFO string storage with non-blocking retrieval\n",
    "    \n",
    "    Usage:\n",
    "        store = DocumentStore()\n",
    "        store.put('data')\n",
    "        item = store.get()  # returns None if empty\n",
    "    \"\"\"\n",
    "    def __init__(self):\n",
    "        self._items = deque()\n",
    "        self._lock = threading.Lock()\n",
    "\n",
    "    def put(self, item: str):\n",
    "        \"\"\"Add string to storage\"\"\"\n",
    "        with self._lock:\n",
    "            self._items.append(item)\n",
    "\n",
    "    def get(self) -> str | None:\n",
    "        \"\"\"Retrieve and remove oldest string, returns None if empty\"\"\"\n",
    "        with self._lock:\n",
    "            return self._items.popleft() if self._items else None\n",
    "\n",
    "    def clear(self):\n",
    "        self._items.clear()\n",
    "\n",
    "    @property\n",
    "    def count(self) -> int:\n",
    "        return len(self._items)\n",
    "        \n",
    "    def __copy__(self):\n",
    "        \"\"\"Create a shallow copy of the DocumentStore instance.\"\"\"\n",
    "        new_store = DocumentStore()\n",
    "        with self._lock:\n",
    "            new_store._items = deque(self._items)\n",
    "        return new_store\n",
    "\n",
    "store = DocumentStore()"
   ]
  },
  {
   "cell_type": "code",
   "execution_count": 30,
   "metadata": {},
   "outputs": [],
   "source": [
    "system_prompt = read_system_prompt('chain_of_agents')\n",
    "\n",
    "class AgentResponse(BaseModel):\n",
    "    main_findings: str = Field(..., description=\"Markdown summary with inline references (e.g., [Source 1]).\")\n",
    "    agent_instruction: str = Field(..., description=\"Specific, actionable steps for the next agent (e.g., 'Analyze X in Document 5').\")\n",
    "    links: list[str] = Field(..., description=\"High-priority links for further research.\")\n",
    "    search_queries_used: list[str] = Field(..., description=\"Queries executed in this step to avoid repetition.\")\n",
    "    processed_docs: list[str] = Field(..., description=\"IDs of documents analyzed (e.g., doc_3, doc_7).\")\n",
    "    confidence_score: float = Field(1.0, description=\"0-1 score indicating confidence in findings (1=high).\")\n",
    "    suggestions_for_improvements: str = Field(\"\", description=\"Feedback on system/prompt issues.\")\n",
    "\n",
    "agent = Agent(\n",
    "    model,\n",
    "    deps_type=store,\n",
    "    result_type=AgentResponse,\n",
    "    system_prompt=system_prompt)\n",
    "\n",
    "# @agent.system_prompt\n",
    "# def add_document_info() -> str:  \n",
    "#     return f'Number of stored documents {store.count}.'\n",
    "\n",
    "# Create a RateLimiter instance allowing 5 requests per 10 seconds\n",
    "#rate_limiter = RateLimiter(rpm=10, window=60.0)\n",
    "\n",
    "async_call_limiter = AsyncFunctionCallLimiter(num=1)  # Restrict the number of function calls\n",
    "\n",
    "@agent.tool_plain\n",
    "@async_call_limiter\n",
    "async def google_search(search_query: str, \n",
    "                        time_span: Optional[TimeSpan] = None, \n",
    "                        web_domain: Optional[str] = None) -> Optional[dict] | str:\n",
    "    \"\"\"\n",
    "    Perform a Google search using the Serper API.\n",
    "    \n",
    "    Args:\n",
    "        search_query (str): The search query string.\n",
    "        time_span (Optional[TimeSpan], optional): The time span. Defaults to None.\n",
    "            - Allowed:\n",
    "                - \"qdr:h\" (for hour)\n",
    "                - \"qdr:d\" (for day)\n",
    "                - \"qdr:w\" (for week)\n",
    "                - \"qdr:m\" (for month)\n",
    "                - \"qdr:y\" (for year)\n",
    "        web_domain (Optional[str], optional): Search inside a web domain (e.g., web_domain=\"brainchip.com\" -> searches only pages with this domain)\n",
    "    Returns:\n",
    "        Optional[dict]: The search results.\n",
    "    \"\"\"\n",
    "    print(f\"google_search with arguments = ({search_query}, {time_span}, {web_domain})\")\n",
    "    response = await google_general_search_async(search_query, time_span, web_domain)\n",
    "\n",
    "    return response\n",
    "\n",
    "@agent.tool_plain\n",
    "@async_call_limiter\n",
    "async def scholar_search(search_query: str, num_pages: int = 1) -> dict  | str:\n",
    "    \"\"\"Google scholar search using an API.\n",
    "\n",
    "        Args:\n",
    "            search_query (str): The search query string.\n",
    "            num_pages (int): The amount of page results that should be returned (more pages=more results).\n",
    "        Returns:\n",
    "            dict: The search results.\n",
    "        \n",
    "    \"\"\"\n",
    "    print(f\"scholar_search with arguments = ({search_query}, {num_pages})\")\n",
    "    response = await google_scholar_search_async(search_query, num_pages)\n",
    "    return response\n"
   ]
  },
  {
   "cell_type": "code",
   "execution_count": null,
   "metadata": {},
   "outputs": [],
   "source": [
    "user_input = f\"\"\"\n",
    "The following document (in German) is a preview of a research proposal that we want to submit. \n",
    "\n",
    "Please help us to improve the content of the document in the following ways:\n",
    "- Do research about the topics mentioned in the document.\n",
    "- Output things that might be relavant and valueble to the report.\n",
    "- Include information that might add value to the report.\n",
    "- Analyse new released papers and see if certain things might have changed.\n",
    "\n",
    "# Research proposal document:\n",
    "\n",
    "{doc}\n",
    "\"\"\"\n",
    "\n",
    "pickle_file = \"chain_of_agent_output.pkl\"\n",
    "os.system(f'rm {pickle_file}')\n",
    "\n",
    "result = await agent.run(user_input, deps=store)\n",
    "data = result.data\n",
    "print(f\"Number of Links: {len(data.links)}\")\n",
    "with open(pickle_file, \"wb\") as f:\n",
    "    pickle.dump(result, f)"
   ]
  },
  {
   "cell_type": "markdown",
   "metadata": {},
   "source": [
    "#### Load pickle file (instead of running model)"
   ]
  },
  {
   "cell_type": "code",
   "execution_count": 15,
   "metadata": {},
   "outputs": [],
   "source": [
    "if exists(pickle_file):\n",
    "    with open(pickle_file, \"rb\") as f:\n",
    "        result = pickle.load(f)"
   ]
  },
  {
   "cell_type": "code",
   "execution_count": 52,
   "metadata": {},
   "outputs": [
    {
     "data": {
      "text/html": [
       "<pre style=\"white-space:pre;overflow-x:auto;line-height:normal;font-family:Menlo,'DejaVu Sans Mono',consolas,'Courier New',monospace\">Based on the conducted search, here are some key points to consider for improving the research proposal:           \n",
       "\n",
       "<span style=\"color: #808000; text-decoration-color: #808000; font-weight: bold\"> • </span><span style=\"font-weight: bold\">Focus and Clarity:</span> A research proposal should focus on a few key research questions to support the argument that\n",
       "<span style=\"color: #808000; text-decoration-color: #808000; font-weight: bold\">   </span>the research needs to be conducted. Minor issues should not dominate the narrative                              \n",
       "<span style=\"color: #808000; text-decoration-color: #808000; font-weight: bold\">   </span>[https://guides.library.charlotte.edu/c.php?g=1218501&amp;p=8912907].                                               \n",
       "<span style=\"color: #808000; text-decoration-color: #808000; font-weight: bold\"> • </span><span style=\"font-weight: bold\">Persuasiveness:</span> The proposal should persuade a committee of scholars that the project has merit                 \n",
       "<span style=\"color: #808000; text-decoration-color: #808000; font-weight: bold\">   </span>[https://www.ssrc.org/publications/the-art-of-writing-proposals/].                                              \n",
       "<span style=\"color: #808000; text-decoration-color: #808000; font-weight: bold\"> • </span><span style=\"font-weight: bold\">Adherence to Guidelines:</span> Ensure the proposal follows all instructions and guidelines, including proper document \n",
       "<span style=\"color: #808000; text-decoration-color: #808000; font-weight: bold\">   </span>formatting [https://library.tiffin.edu/writingaresearchproposal/commonproposalwritingmistakes].                 \n",
       "<span style=\"color: #808000; text-decoration-color: #808000; font-weight: bold\"> • </span><span style=\"font-weight: bold\">Target Audience:</span> Tailor the proposal to the reviewers. Use clear language to highlight the significance and     \n",
       "<span style=\"color: #808000; text-decoration-color: #808000; font-weight: bold\">   </span>innovation of the work                                                                                          \n",
       "<span style=\"color: #808000; text-decoration-color: #808000; font-weight: bold\">   </span>[https://www.ashfoundation.org/news/nine-tips-for-crafting-a-winning-research-grant-proposal/].                 \n",
       "<span style=\"color: #808000; text-decoration-color: #808000; font-weight: bold\"> • </span><span style=\"font-weight: bold\">Methodology:</span> Clearly explain how the data will be collected and analyzed                                        \n",
       "<span style=\"color: #808000; text-decoration-color: #808000; font-weight: bold\">   </span>[https://research.com/research/how-to-write-research-methodology].                                              \n",
       "<span style=\"color: #808000; text-decoration-color: #808000; font-weight: bold\"> • </span><span style=\"font-weight: bold\">Convincing the Committee</span>: The proposal should convince the committee that you are ready to start the research   \n",
       "<span style=\"color: #808000; text-decoration-color: #808000; font-weight: bold\">   </span>project [https://guides.library.unt.edu/Dissertation-thesis-proposal].                                          \n",
       "<span style=\"color: #808000; text-decoration-color: #808000; font-weight: bold\"> • </span><span style=\"font-weight: bold\">Articulate Plans:</span> The proposal should clearly articulate the plans for the research and convince others of its  \n",
       "<span style=\"color: #808000; text-decoration-color: #808000; font-weight: bold\">   </span>value [https://libguides.lb.polyu.edu.hk/researchers_library/research_proposal].                                \n",
       "<span style=\"color: #808000; text-decoration-color: #808000; font-weight: bold\"> • </span><span style=\"font-weight: bold\">Well-Organized and Readable:</span> The research strategy should be well-organized, visually appealing, and readable   \n",
       "<span style=\"color: #808000; text-decoration-color: #808000; font-weight: bold\">   </span>[https://www.niaid.nih.gov/grants-contracts/write-research-plan].                                               \n",
       "<span style=\"color: #808000; text-decoration-color: #808000; font-weight: bold\"> • </span><span style=\"font-weight: bold\">Key Elements:</span> Include all key elements involved in the research process                                         \n",
       "<span style=\"color: #808000; text-decoration-color: #808000; font-weight: bold\">   </span>[http://www.drpaulwong.com/how-to-write-a-research-proposal/].                                                  \n",
       "<span style=\"color: #808000; text-decoration-color: #808000; font-weight: bold\"> • </span><span style=\"font-weight: bold\">Literature Review:</span> Provide a literature review and persuasive evidence that there is a need for the research    \n",
       "<span style=\"color: #808000; text-decoration-color: #808000; font-weight: bold\">   </span>[https://library.sacredheart.edu/c.php?g=29803&amp;p=185956].                                                       \n",
       "<span style=\"color: #808000; text-decoration-color: #808000; font-weight: bold\"> • </span><span style=\"font-weight: bold\">Innovation:</span> Highlight the innovative aspects of the research. This could include new perspectives,              \n",
       "<span style=\"color: #808000; text-decoration-color: #808000; font-weight: bold\">   </span>methodologies, or a novel approach to existing problems                                                         \n",
       "<span style=\"color: #808000; text-decoration-color: #808000; font-weight: bold\">   </span>[https://www.unh.edu/student-success/sites/default/files/media/2022-07/resources-research-proposals.pdf].       \n",
       "<span style=\"color: #808000; text-decoration-color: #808000; font-weight: bold\"> • </span><span style=\"font-weight: bold\">Addressing Limitations:</span> If applicable, address the limitations of previous studies                              \n",
       "<span style=\"color: #808000; text-decoration-color: #808000; font-weight: bold\">   </span>[https://pmc.ncbi.nlm.nih.gov/articles/PMC5618829/].                                                            \n",
       "<span style=\"color: #808000; text-decoration-color: #808000; font-weight: bold\"> • </span><span style=\"font-weight: bold\">Use Key Terms:</span> Be direct and use key terms, avoiding lengthy titles                                             \n",
       "<span style=\"color: #808000; text-decoration-color: #808000; font-weight: bold\">   </span>[https://www.monash.edu/student-academic-success/excel-at-writing/how-to-write/research-proposal/features-of-a-r\n",
       "<span style=\"color: #808000; text-decoration-color: #808000; font-weight: bold\">   </span>esearch-proposal].                                                                                              \n",
       "<span style=\"color: #808000; text-decoration-color: #808000; font-weight: bold\"> • </span><span style=\"font-weight: bold\">Common Mistakes:</span> Common mistakes include a lack of focus, unclear methodology, and not adhering to guidelines.  \n",
       "<span style=\"color: #808000; text-decoration-color: #808000; font-weight: bold\">   </span>Ensure your proposal avoids these issues.                                                                       \n",
       "\n",
       "These points should be used when reviewing the provided German document. Based on these points, please provide     \n",
       "concrete suggestions on how to improve the proposal.                                                               \n",
       "</pre>\n"
      ],
      "text/plain": [
       "Based on the conducted search, here are some key points to consider for improving the research proposal:           \n",
       "\n",
       "\u001b[1;33m • \u001b[0m\u001b[1mFocus and Clarity:\u001b[0m A research proposal should focus on a few key research questions to support the argument that\n",
       "\u001b[1;33m   \u001b[0mthe research needs to be conducted. Minor issues should not dominate the narrative                              \n",
       "\u001b[1;33m   \u001b[0m[https://guides.library.charlotte.edu/c.php?g=1218501&p=8912907].                                               \n",
       "\u001b[1;33m • \u001b[0m\u001b[1mPersuasiveness:\u001b[0m The proposal should persuade a committee of scholars that the project has merit                 \n",
       "\u001b[1;33m   \u001b[0m[https://www.ssrc.org/publications/the-art-of-writing-proposals/].                                              \n",
       "\u001b[1;33m • \u001b[0m\u001b[1mAdherence to Guidelines:\u001b[0m Ensure the proposal follows all instructions and guidelines, including proper document \n",
       "\u001b[1;33m   \u001b[0mformatting [https://library.tiffin.edu/writingaresearchproposal/commonproposalwritingmistakes].                 \n",
       "\u001b[1;33m • \u001b[0m\u001b[1mTarget Audience:\u001b[0m Tailor the proposal to the reviewers. Use clear language to highlight the significance and     \n",
       "\u001b[1;33m   \u001b[0minnovation of the work                                                                                          \n",
       "\u001b[1;33m   \u001b[0m[https://www.ashfoundation.org/news/nine-tips-for-crafting-a-winning-research-grant-proposal/].                 \n",
       "\u001b[1;33m • \u001b[0m\u001b[1mMethodology:\u001b[0m Clearly explain how the data will be collected and analyzed                                        \n",
       "\u001b[1;33m   \u001b[0m[https://research.com/research/how-to-write-research-methodology].                                              \n",
       "\u001b[1;33m • \u001b[0m\u001b[1mConvincing the Committee\u001b[0m: The proposal should convince the committee that you are ready to start the research   \n",
       "\u001b[1;33m   \u001b[0mproject [https://guides.library.unt.edu/Dissertation-thesis-proposal].                                          \n",
       "\u001b[1;33m • \u001b[0m\u001b[1mArticulate Plans:\u001b[0m The proposal should clearly articulate the plans for the research and convince others of its  \n",
       "\u001b[1;33m   \u001b[0mvalue [https://libguides.lb.polyu.edu.hk/researchers_library/research_proposal].                                \n",
       "\u001b[1;33m • \u001b[0m\u001b[1mWell-Organized and Readable:\u001b[0m The research strategy should be well-organized, visually appealing, and readable   \n",
       "\u001b[1;33m   \u001b[0m[https://www.niaid.nih.gov/grants-contracts/write-research-plan].                                               \n",
       "\u001b[1;33m • \u001b[0m\u001b[1mKey Elements:\u001b[0m Include all key elements involved in the research process                                         \n",
       "\u001b[1;33m   \u001b[0m[http://www.drpaulwong.com/how-to-write-a-research-proposal/].                                                  \n",
       "\u001b[1;33m • \u001b[0m\u001b[1mLiterature Review:\u001b[0m Provide a literature review and persuasive evidence that there is a need for the research    \n",
       "\u001b[1;33m   \u001b[0m[https://library.sacredheart.edu/c.php?g=29803&p=185956].                                                       \n",
       "\u001b[1;33m • \u001b[0m\u001b[1mInnovation:\u001b[0m Highlight the innovative aspects of the research. This could include new perspectives,              \n",
       "\u001b[1;33m   \u001b[0mmethodologies, or a novel approach to existing problems                                                         \n",
       "\u001b[1;33m   \u001b[0m[https://www.unh.edu/student-success/sites/default/files/media/2022-07/resources-research-proposals.pdf].       \n",
       "\u001b[1;33m • \u001b[0m\u001b[1mAddressing Limitations:\u001b[0m If applicable, address the limitations of previous studies                              \n",
       "\u001b[1;33m   \u001b[0m[https://pmc.ncbi.nlm.nih.gov/articles/PMC5618829/].                                                            \n",
       "\u001b[1;33m • \u001b[0m\u001b[1mUse Key Terms:\u001b[0m Be direct and use key terms, avoiding lengthy titles                                             \n",
       "\u001b[1;33m   \u001b[0m[https://www.monash.edu/student-academic-success/excel-at-writing/how-to-write/research-proposal/features-of-a-r\n",
       "\u001b[1;33m   \u001b[0mesearch-proposal].                                                                                              \n",
       "\u001b[1;33m • \u001b[0m\u001b[1mCommon Mistakes:\u001b[0m Common mistakes include a lack of focus, unclear methodology, and not adhering to guidelines.  \n",
       "\u001b[1;33m   \u001b[0mEnsure your proposal avoids these issues.                                                                       \n",
       "\n",
       "These points should be used when reviewing the provided German document. Based on these points, please provide     \n",
       "concrete suggestions on how to improve the proposal.                                                               \n"
      ]
     },
     "metadata": {},
     "output_type": "display_data"
    }
   ],
   "source": [
    "console_print(result.data.main_findings)"
   ]
  },
  {
   "cell_type": "code",
   "execution_count": null,
   "metadata": {},
   "outputs": [],
   "source": [
    "temp_folder = \"temp/\"\n",
    "\n",
    "if not exists(temp_folder):\n",
    "    makedirs(temp_folder)\n",
    "\n",
    "headers = {\"User-Agent\": \"Mozilla/5.0\"}\n",
    "\n",
    "files = {}\n",
    "\n",
    "for k, link in enumerate(data.links):\n",
    "    filename = join(temp_folder, f\"page_{k}.html\")\n",
    "    try:\n",
    "        makedirs(os.path.dirname(filename), exist_ok=True)\n",
    "        response = requests.get(link, headers=headers, timeout=10)\n",
    "        with open(filename, \"w\", encoding=\"utf-8\") as f:\n",
    "            f.write(response.text)\n",
    "\n",
    "        print(f\"Saved: {filename}\")\n",
    "        files[basename(filename)] = link\n",
    "\n",
    "    except requests.exceptions.Timeout:\n",
    "        print(f\"Timeout occurred for {link}.\")\n",
    "        continue\n",
    "\n",
    "    except IOError as e:\n",
    "        print(f\"Failed to save {filename}: {e}\")\n",
    "        continue"
   ]
  },
  {
   "cell_type": "code",
   "execution_count": null,
   "metadata": {},
   "outputs": [],
   "source": [
    "md = MarkItDown()\n",
    "min_word_threshold = 1000\n",
    "max_word_threshold = 250000\n",
    "\n",
    "for filename in files:\n",
    "    link = files[filename]\n",
    "    filepath = join(temp_folder, filename)\n",
    "    with open(filepath, \"r\", encoding=\"utf-8\") as f:\n",
    "        file_content = f.read()\n",
    "        count = word_count(file_content)\n",
    "\n",
    "        if count < max_word_threshold:\n",
    "            if count < min_word_threshold:\n",
    "                print(f\"Word count: {count} -> Use crawl4ai\")\n",
    "                markdown_output = await crawl4ai_website_async(link)\n",
    "            else:\n",
    "                markdown_output = md.convert(filepath).text_content\n",
    "\n",
    "            store.put(markdown_output)    \n",
    "        "
   ]
  },
  {
   "cell_type": "code",
   "execution_count": 40,
   "metadata": {},
   "outputs": [
    {
     "name": "stdout",
     "output_type": "stream",
     "text": [
      "26\n"
     ]
    }
   ],
   "source": [
    "print(store.count)\n",
    "store2 = copy.copy(store)"
   ]
  },
  {
   "cell_type": "code",
   "execution_count": null,
   "metadata": {},
   "outputs": [],
   "source": [
    "print(store2.count)\n",
    "console_print(store2.get())"
   ]
  }
 ],
 "metadata": {
  "kernelspec": {
   "display_name": ".venv",
   "language": "python",
   "name": "python3"
  },
  "language_info": {
   "codemirror_mode": {
    "name": "ipython",
    "version": 3
   },
   "file_extension": ".py",
   "mimetype": "text/x-python",
   "name": "python",
   "nbconvert_exporter": "python",
   "pygments_lexer": "ipython3",
   "version": "3.13.1"
  }
 },
 "nbformat": 4,
 "nbformat_minor": 2
}
