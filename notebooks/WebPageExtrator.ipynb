{
 "cells": [
  {
   "cell_type": "code",
   "execution_count": null,
   "metadata": {},
   "outputs": [],
   "source": [
    "import os\n",
    "import sys\n",
    "import controlflow as cf\n",
    "\n",
    "from agent_utils import *\n",
    "from agent_tools import *"
   ]
  },
  {
   "cell_type": "code",
   "execution_count": 7,
   "metadata": {},
   "outputs": [],
   "source": [
    "reasoningAgentChat = ChatHandler()\n",
    "basicSearchAgent = BasicSearchAgent()\n",
    "\n",
    "extractAgent = cf.Agent(\n",
    "    name=\"Extract\",\n",
    "    model = \"google/\" + config.LITE2_MODEL,\n",
    "    instructions=f\"\"\"\n",
    "    Your goal is to extract specific information given a web text.\n",
    "    \"\"\"\n",
    ")\n",
    "\n",
    "class WebPageInfo(BaseModel):\n",
    "    pass"
   ]
  },
  {
   "cell_type": "code",
   "execution_count": null,
   "metadata": {},
   "outputs": [],
   "source": [
    "task_extract_web_info = cf.Task(\n",
    "    objective=f\"Extract all relevant information from an web text\",\n",
    "    result_type=WebPageInfo,\n",
    "    agents=[extractAgent]\n",
    ")\n",
    "\n",
    "result = task_extract_web_info.run()"
   ]
  }
 ],
 "metadata": {
  "kernelspec": {
   "display_name": ".venv",
   "language": "python",
   "name": "python3"
  },
  "language_info": {
   "codemirror_mode": {
    "name": "ipython",
    "version": 3
   },
   "file_extension": ".py",
   "mimetype": "text/x-python",
   "name": "python",
   "nbconvert_exporter": "python",
   "pygments_lexer": "ipython3",
   "version": "3.13.1"
  }
 },
 "nbformat": 4,
 "nbformat_minor": 2
}
