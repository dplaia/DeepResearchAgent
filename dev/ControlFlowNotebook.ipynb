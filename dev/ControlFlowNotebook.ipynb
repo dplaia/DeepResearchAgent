{
 "cells": [
  {
   "cell_type": "markdown",
   "metadata": {},
   "source": [
    "Controlflow Documentation: https://controlflow.ai/welcome"
   ]
  },
  {
   "cell_type": "code",
   "execution_count": 1,
   "metadata": {},
   "outputs": [],
   "source": [
    "import controlflow as cf\n",
    "from pydantic import BaseModel\n",
    "\n",
    "from config import Config\n",
    "# result = cf.run(\"Write a short poem about artificial intelligence\")\n",
    "\n",
    "config = Config()\n",
    "# print(result)"
   ]
  },
  {
   "cell_type": "code",
   "execution_count": 2,
   "metadata": {},
   "outputs": [
    {
     "data": {
      "text/html": [
       "<pre style=\"white-space:pre;overflow-x:auto;line-height:normal;font-family:Menlo,'DejaVu Sans Mono',consolas,'Courier New',monospace\">18:56:10.036 | <span style=\"color: #d7d700; text-decoration-color: #d7d700\">WARNING</span> | langchain_google_genai._function_utils - Key 'additionalProperties' is not supported in schema, ignoring\n",
       "</pre>\n"
      ],
      "text/plain": [
       "18:56:10.036 | \u001b[38;5;184mWARNING\u001b[0m | langchain_google_genai._function_utils - Key 'additionalProperties' is not supported in schema, ignoring\n"
      ]
     },
     "metadata": {},
     "output_type": "display_data"
    },
    {
     "data": {
      "text/html": [
       "<pre style=\"white-space:pre;overflow-x:auto;line-height:normal;font-family:Menlo,'DejaVu Sans Mono',consolas,'Courier New',monospace\">18:56:10.039 | <span style=\"color: #d7d700; text-decoration-color: #d7d700\">WARNING</span> | langchain_google_genai._function_utils - Key 'additionalProperties' is not supported in schema, ignoring\n",
       "</pre>\n"
      ],
      "text/plain": [
       "18:56:10.039 | \u001b[38;5;184mWARNING\u001b[0m | langchain_google_genai._function_utils - Key 'additionalProperties' is not supported in schema, ignoring\n"
      ]
     },
     "metadata": {},
     "output_type": "display_data"
    },
    {
     "data": {
      "application/vnd.jupyter.widget-view+json": {
       "model_id": "9084567f64224d0dbdc69a1496597bd6",
       "version_major": 2,
       "version_minor": 0
      },
      "text/plain": [
       "Output()"
      ]
     },
     "metadata": {},
     "output_type": "display_data"
    },
    {
     "data": {
      "text/html": [
       "<pre style=\"white-space:pre;overflow-x:auto;line-height:normal;font-family:Menlo,'DejaVu Sans Mono',consolas,'Courier New',monospace\"></pre>\n"
      ],
      "text/plain": []
     },
     "metadata": {},
     "output_type": "display_data"
    },
    {
     "data": {
      "text/plain": [
       "'4'"
      ]
     },
     "execution_count": 2,
     "metadata": {},
     "output_type": "execute_result"
    }
   ],
   "source": [
    "agent = cf.Agent(model=config.CF_FLASH2_MODEL)\n",
    "agent.run(\"What is 2*2?\")"
   ]
  },
  {
   "cell_type": "code",
   "execution_count": null,
   "metadata": {},
   "outputs": [],
   "source": [
    "class ResearchProposal(BaseModel):\n",
    "    title: str\n",
    "    abstract: str\n",
    "    key_points: list[str]\n",
    "\n",
    "\n",
    "@cf.flow\n",
    "def research_proposal_flow():\n",
    "\n",
    "    # Task 1: Get the research topic from the user\n",
    "    user_input = cf.Task(\n",
    "        \"Work with the user to choose a research topic\",\n",
    "        interactive=True,\n",
    "    )\n",
    "    \n",
    "    # Task 2: Generate a structured research proposal\n",
    "    proposal = cf.run(\n",
    "        \"Generate a structured research proposal\",\n",
    "        result_type=ResearchProposal,\n",
    "        depends_on=[user_input]\n",
    "    )\n",
    "    \n",
    "    return proposal\n",
    "\n",
    "\n",
    "result = research_proposal_flow()\n",
    "\n",
    "print(result.model_dump_json(indent=2))"
   ]
  }
 ],
 "metadata": {
  "kernelspec": {
   "display_name": ".venv",
   "language": "python",
   "name": "python3"
  },
  "language_info": {
   "codemirror_mode": {
    "name": "ipython",
    "version": 3
   },
   "file_extension": ".py",
   "mimetype": "text/x-python",
   "name": "python",
   "nbconvert_exporter": "python",
   "pygments_lexer": "ipython3",
   "version": "3.13.1"
  }
 },
 "nbformat": 4,
 "nbformat_minor": 2
}
