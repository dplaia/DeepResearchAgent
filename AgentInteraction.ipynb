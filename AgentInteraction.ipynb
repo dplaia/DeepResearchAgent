{
 "cells": [
  {
   "cell_type": "code",
   "execution_count": 2,
   "metadata": {},
   "outputs": [],
   "source": [
    "import os\n",
    "import time\n",
    "from os.path import join, exists\n",
    "from os import listdir, makedirs\n",
    "from datetime import datetime\n",
    "from google import genai\n",
    "from google.genai import types\n",
    "from openai import OpenAI\n",
    "from openai import AsyncOpenAI\n",
    "import requests\n",
    "import json\n",
    "from pydantic import BaseModel, Field\n",
    "from crawl4ai import *\n",
    "from pydantic_ai import Agent, RunContext\n",
    "from pydantic_ai.models.gemini import GeminiModel\n",
    "from dataclasses import dataclass\n",
    "from rich import print as rprint\n",
    "from rich.console import Console\n",
    "from rich.markdown import Markdown\n",
    "from queue import Queue, Empty\n",
    "import asyncio\n",
    "import nest_asyncio \n",
    "# Add this line to allow nested event loops\n",
    "nest_asyncio.apply()\n",
    "\n",
    "from agent_tools import *\n",
    "from agent_utils import *\n",
    "\n",
    "from loguru import logger\n",
    "\n",
    "config = Config()\n",
    "\n",
    "console = Console()\n",
    "# Log to a file with custom timestamp format\n",
    "logger.add(\"agent_output.log\", format=\"{time:YYYY-MM-DD HH:mm:ss} | {level} | {message}\")\n",
    "model = GeminiModel(config.FLASH2_MODEL)\n"
   ]
  },
  {
   "cell_type": "code",
   "execution_count": 27,
   "metadata": {},
   "outputs": [],
   "source": [
    "class Question(BaseModel):\n",
    "    question: str = Field(description=\"The question that needs to be answered.\")\n",
    "    index: int = Field(description=\"The question number or index.\")\n",
    "\n",
    "class Answer(BaseModel):\n",
    "   \n",
    "    answer: str = Field(description=\"The answer for the question (if available).\")\n",
    "    notes: list[str] = Field(description=\"Add study notes or pieces of text that helps other assistants to answer the question in the future. The better the quality of the notes, the more likely it is to get better responses in the future.\")\n",
    "    index: int = Field(description=\"Equals question number or index.\")\n",
    "    rating: int = Field(description=\"Rate the quality of your response between 0 and 10\", ge=0, le=10)\n",
    "\n",
    "class Deps(BaseModel):\n",
    "    questions: dict[int, Question] = Field(description=\"A dict with questions that need to be answered (keys: question number, values: question).\")\n",
    "\n",
    "    def get_all_questions(self) -> dict:\n",
    "        return self.questions\n",
    "\n",
    "    def remove_question(self, idx: int) -> bool:\n",
    "        if idx not in self.questions.keys():\n",
    "            return False\n",
    "\n",
    "        del self.questions[idx]\n",
    "        \n",
    "        return True\n",
    "\n",
    "questions_list = [\n",
    "    \"Explain the concept of 'artificial intelligence' in a way that a 10-year-old could understand.\", \n",
    "    \"Compare and contrast the philosophies of Plato and Aristotle, highlighting their key differences and similarities in their views on ethics and knowledge.\", \n",
    "    \"Write a short poem about the feeling of walking through a forest in autumn.\",\n",
    "    \"If someone is planning a trip to Italy and enjoys art and history, what are three cities you would recommend they visit and why?\",\n",
    "    \"Summarize the main arguments for and against universal basic income.\"]\n",
    "\n",
    "question_dict = {}\n",
    "for (k,q) in enumerate(questions_list):\n",
    "    question = Question(question=q, index=k)\n",
    "    question_dict[k] = question\n",
    "\n",
    "deps = Deps(questions=question_dict)\n",
    "\n",
    "system_prompt=\"\"\"\n",
    "You are a helpful assistant.\n",
    "\n",
    "- First get all questions (use tools)\n",
    "- Then, choose only one question\n",
    "- Finally answer the one question\n",
    "\"\"\"\n",
    "\n",
    "agent = Agent(\n",
    "    model,\n",
    "    deps_type=deps,  \n",
    "    result_type=Answer,\n",
    "    system_prompt=system_prompt)\n",
    "\n",
    "@agent.tool\n",
    "def get_all_questions(ctx: RunContext[Deps]) -> dict:\n",
    "    return ctx.deps.get_all_questions()"
   ]
  },
  {
   "cell_type": "code",
   "execution_count": 29,
   "metadata": {},
   "outputs": [
    {
     "name": "stderr",
     "output_type": "stream",
     "text": [
      "INFO:httpx:HTTP Request: POST https://generativelanguage.googleapis.com/v1beta/models/gemini-2.0-flash-exp:generateContent \"HTTP/1.1 200 OK\"\n",
      "INFO:httpx:HTTP Request: POST https://generativelanguage.googleapis.com/v1beta/models/gemini-2.0-flash-exp:generateContent \"HTTP/1.1 200 OK\"\n",
      "INFO:httpx:HTTP Request: POST https://generativelanguage.googleapis.com/v1beta/models/gemini-2.0-flash-exp:generateContent \"HTTP/1.1 200 OK\"\n",
      "INFO:httpx:HTTP Request: POST https://generativelanguage.googleapis.com/v1beta/models/gemini-2.0-flash-exp:generateContent \"HTTP/1.1 200 OK\"\n"
     ]
    }
   ],
   "source": [
    "saved_answered = []\n",
    "\n",
    "for k in range(2):\n",
    "    \n",
    "    result = await agent.run('Get all questions and give an answer to only one question.', deps=deps)\n",
    "    # console.print(Markdown(result.data.answer))\n",
    "    # logger.info(f\"LLM Output: {result.data.answer}\")\n",
    "\n",
    "    saved_answered.append(result.data)\n",
    "\n",
    "    if result.data.rating >= 8:\n",
    "        # remove question from deps\n",
    "        deps.remove_question(result.data.index)\n",
    "\n",
    "    time.sleep(1)\n"
   ]
  },
  {
   "cell_type": "code",
   "execution_count": 31,
   "metadata": {},
   "outputs": [
    {
     "data": {
      "text/plain": [
       "[Answer(answer=\"Imagine a computer that can learn and think a little bit like a human. That's kind of what artificial intelligence is! It's like teaching a computer to do things that usually only smart people can do, like understanding what you say or playing games. We use it in our phones, in video games, and in many other things!\", notes=['The response provides an analogy for a 10-year-old to understand the concept of AI, focusing on learning and thinking capabilities.', 'It uses simple language and relates it to their daily life experiences like phones and video games'], index=0, rating=9),\n",
       " Answer(answer=\"Plato and Aristotle, while both giants of Greek philosophy, had some key differences in their approaches to ethics and knowledge. Plato, influenced by his teacher Socrates, leaned towards idealism. He believed in a world of Forms, which are perfect and eternal ideas, and that our world is just a shadow or reflection of these Forms. For Plato, true knowledge was not derived from sensory experience but through reason and understanding of these Forms. In ethics, he believed that the ultimate goal of man was to achieve the Form of the Good, which he saw as the source of all truth and morality. On the other hand, Aristotle, who was Plato's student, took a more empirical approach. He believed that knowledge came from observation and experience. He emphasized the importance of the natural world and saw the study of it as crucial for understanding reality. In terms of ethics, Aristotle was more concerned with the practical application of morality. He developed the concept of 'virtue ethics,' which emphasized the importance of developing moral character through virtuous actions. He proposed that human happiness, or eudaimonia, was achieved through a life of virtuous activity in accordance with reason. In summary, Plato was more of an idealist who sought knowledge through reason and Forms, while Aristotle was more of an empiricist who emphasized observation and the study of the natural world. Their ethical systems also differed, with Plato focusing on the Form of the Good and Aristotle focusing on the practical development of virtue.\", notes=['Plato was an idealist, Aristotle was an empiricist.', 'Plato emphasized the Forms, Aristotle emphasized the natural world.', \"Plato's ethics focused on the Form of the Good, Aristotle's on virtue ethics.\", 'Both were influential Greek philosophers and significantly impacted Western thought'], index=1, rating=10)]"
      ]
     },
     "execution_count": 31,
     "metadata": {},
     "output_type": "execute_result"
    }
   ],
   "source": [
    "saved_answered"
   ]
  }
 ],
 "metadata": {
  "kernelspec": {
   "display_name": ".venv",
   "language": "python",
   "name": "python3"
  },
  "language_info": {
   "codemirror_mode": {
    "name": "ipython",
    "version": 3
   },
   "file_extension": ".py",
   "mimetype": "text/x-python",
   "name": "python",
   "nbconvert_exporter": "python",
   "pygments_lexer": "ipython3",
   "version": "3.13.1"
  }
 },
 "nbformat": 4,
 "nbformat_minor": 2
}
